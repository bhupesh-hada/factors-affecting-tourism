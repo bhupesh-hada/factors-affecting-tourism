{
 "cells": [
  {
   "cell_type": "code",
   "execution_count": 20,
   "metadata": {
    "collapsed": false
   },
   "outputs": [
    {
     "ename": "SyntaxError",
     "evalue": "invalid syntax (<ipython-input-20-8e6b90332321>, line 17)",
     "output_type": "error",
     "traceback": [
      "\u001b[0;36m  File \u001b[0;32m\"<ipython-input-20-8e6b90332321>\"\u001b[0;36m, line \u001b[0;32m17\u001b[0m\n\u001b[0;31m    ax.bar(ind,range(len(data2), data2, bottom=yvals, label='data 2', alpha=0.5, color='b')\u001b[0m\n\u001b[0m     ^\u001b[0m\n\u001b[0;31mSyntaxError\u001b[0m\u001b[0;31m:\u001b[0m invalid syntax\n"
     ]
    }
   ],
   "source": [
    "import numpy as np\n",
    "import matplotlib.pyplot as plt\n",
    "\n",
    "N = 3\n",
    "ind = np.arange(N)  # the x locations for the groups\n",
    "width = 0.27       # the width of the bars\n",
    "\n",
    "fig = plt.figure()\n",
    "ax = fig.add_subplot(111)\n",
    "\n",
    "yvals = [4, 9, 2]\n",
    "data2 = [150,120,190]\n",
    "\n",
    "data1 = [100,120,140]\n",
    "\n",
    "rects1 = ax.bar(ind,range(len(data2), yvals, width, color='r')\n",
    "ax.bar(ind,range(len(data2), data2, bottom=yvals, label='data 2', alpha=0.5, color='b')\n",
    "\n",
    "\n",
    "z = [1,2,3]\n",
    "rects2 = ax.bar(ind+width,range(len(data2), z, width, color='g')\n",
    "ax.bar(ind,range(len(data2)), data1, bottom=z, label='data 1', alpha=0.5, color='r')\n",
    "\n",
    "\n",
    "kvals = [11,12,13]\n",
    "rects3 = ax.bar(ind+width*2, kvals, width, color='b')\n",
    "\n",
    "ax.set_ylabel('Scores')\n",
    "ax.set_xticks(ind+width)\n",
    "ax.set_xticklabels( ('2011-Jan-4', '2011-Jan-5', '2011-Jan-6') )\n",
    "ax.legend( (rects1[0], rects2[0], rects3[0]), ('y', 'z', 'k') )\n",
    "\n",
    "\n",
    "def autolabel(rects):\n",
    "    for rect in rects:\n",
    "        h = rect.get_height()\n",
    "        ax.text(rect.get_x()+rect.get_width()/2., 1.05*h, '%d'%int(h),\n",
    "                ha='center', va='bottom')\n",
    "\n",
    "autolabel(rects1)\n",
    "autolabel(rects2)\n",
    "autolabel(rects3)\n",
    "\n",
    "plt.show()"
   ]
  },
  {
   "cell_type": "code",
   "execution_count": 12,
   "metadata": {
    "collapsed": false
   },
   "outputs": [
    {
     "data": {
      "text/plain": [
       "range(0, 3)"
      ]
     },
     "execution_count": 12,
     "metadata": {},
     "output_type": "execute_result"
    }
   ],
   "source": [
    "x=range(len(data2))\n",
    "x      "
   ]
  },
  {
   "cell_type": "code",
   "execution_count": 67,
   "metadata": {
    "collapsed": false
   },
   "outputs": [
    {
     "data": {
      "text/plain": [
       "<matplotlib.legend.Legend at 0x1b7fa894278>"
      ]
     },
     "execution_count": 67,
     "metadata": {},
     "output_type": "execute_result"
    }
   ],
   "source": [
    "from matplotlib import pyplot as plt\n",
    "\n",
    "data1 = [100,120,140]\n",
    "data2 = [150,120,190]\n",
    "\n",
    "f, (ax1) = plt.subplots(1, figsize=(5,5))\n",
    "\n",
    "## Absolute count\n",
    "\n",
    "ax1.bar([0,0.2,0.4], data1, label='data 1', width = 0.2, alpha=0.5, color='b')\n",
    "ax1.bar([0,0.2,0.4], data2, bottom=data1, label='data 2',width = 0.2, alpha=0.5, color='r')\n",
    "plt.sca(ax1)\n",
    "ax1.bar([0.8,1.0,1.2], data1, label='data 1', width = 0.2, alpha=0.5, color='b')\n",
    "ax1.bar([0.8,1.0,1.2], data2, bottom=data1, label='data 2',width = 0.2, alpha=0.5, color='r')\n",
    "plt.sca(ax1)\n",
    "plt.xticks([0.1, 0.3, 0.5],  ['1', '2', '3'])\n",
    "ax1.set_ylabel(\"Count\")\n",
    "ax1.set_xlabel(\"\")\n",
    "plt.legend(loc='upper left')\n"
   ]
  },
  {
   "cell_type": "code",
   "execution_count": 22,
   "metadata": {
    "collapsed": false
   },
   "outputs": [
    {
     "data": {
      "text/plain": [
       "<function matplotlib.pyplot.show>"
      ]
     },
     "execution_count": 22,
     "metadata": {},
     "output_type": "execute_result"
    }
   ],
   "source": [
    "plt.show"
   ]
  },
  {
   "cell_type": "code",
   "execution_count": 68,
   "metadata": {
    "collapsed": false
   },
   "outputs": [
    {
     "data": {
      "image/png": "[encoded data removed]",
      "text/plain": [
       "<matplotlib.figure.Figure at 0x1b7f9fa1128>"
      ]
     },
     "metadata": {},
     "output_type": "display_data"
    }
   ],
   "source": [
    "plt.show()"
   ]
  },
  {
   "cell_type": "code",
   "execution_count": 42,
   "metadata": {
    "collapsed": false
   },
   "outputs": [
    {
     "ename": "SyntaxError",
     "evalue": "positional argument follows keyword argument (<ipython-input-42-07ae2c8295e3>, line 14)",
     "output_type": "error",
     "traceback": [
      "\u001b[0;36m  File \u001b[0;32m\"<ipython-input-42-07ae2c8295e3>\"\u001b[0;36m, line \u001b[0;32m14\u001b[0m\n\u001b[0;31m    rects2 = ax.bar(ind, zvals,bottom=yvals, width, color='g')\u001b[0m\n\u001b[0m                                            ^\u001b[0m\n\u001b[0;31mSyntaxError\u001b[0m\u001b[0;31m:\u001b[0m positional argument follows keyword argument\n"
     ]
    }
   ],
   "source": [
    "import numpy as np\n",
    "import matplotlib.pyplot as plt\n",
    "\n",
    "N = 3\n",
    "ind = np.arange(N)  # the x locations for the groups\n",
    "width = 0.27       # the width of the bars\n",
    "\n",
    "fig = plt.figure()\n",
    "ax = fig.add_subplot(111)\n",
    "\n",
    "yvals = [4, 9, 2]\n",
    "rects1 = ax.bar(ind, yvals, width, color='r')\n",
    "zvals = [1,2,3]\n",
    "rects2 = ax.bar(ind, zvals,bottom=yvals, width, color='g')\n",
    "kvals = [11,12,13]\n",
    "rects3 = ax.bar(ind+width*2, kvals, width, color='b')\n",
    "\n",
    "ax.set_ylabel('Scores')\n",
    "ax.set_xticks(ind+width)\n",
    "ax.set_xticklabels( ('2011-Jan-4', '2011-Jan-5', '2011-Jan-6') )\n",
    "ax.legend( (rects1[0], rects2[0], rects3[0]), ('y', 'z', 'k') )\n",
    "\n",
    "def autolabel(rects):\n",
    "    for rect in rects:\n",
    "        h = rect.get_height()\n",
    "        ax.text(rect.get_x()+rect.get_width()/2., 1.05*h, '%d'%int(h),\n",
    "                ha='center', va='bottom')\n",
    "\n",
    "autolabel(rects1)\n",
    "autolabel(rects2)\n",
    "autolabel(rects3)\n",
    "\n",
    "plt.show()"
   ]
  },
  {
   "cell_type": "code",
   "execution_count": 41,
   "metadata": {
    "collapsed": true
   },
   "outputs": [],
   "source": [
    "ax.bar?"
   ]
  },
  {
   "cell_type": "code",
   "execution_count": 119,
   "metadata": {
    "collapsed": false
   },
   "outputs": [
    {
     "data": {
      "text/plain": [
       "<matplotlib.legend.Legend at 0x1b7fdeacb38>"
      ]
     },
     "execution_count": 119,
     "metadata": {},
     "output_type": "execute_result"
    }
   ],
   "source": [
    "from matplotlib import pyplot as plt\n",
    "\n",
    "data1 = [19,18,22,16,14]\n",
    "data2 = [28,18,9,34,7]\n",
    "data3 = [2,10,15,7,11]\n",
    "data4 = [24,18,5,35,15]\n",
    "data5 = [5,11,8,5,10]\n",
    "data6 = [17,15,22,29,18]\n",
    "data7 = [9,8,20,15,21]\n",
    "data8 = [14,15,8,56,7]\n",
    "data9 = [36,26,28,15,38]\n",
    "data10 = [6,4,8,5,9]\n",
    "\n",
    "f, (ax1) = plt.subplots(1, figsize=(5,5))\n",
    "\n",
    "## Absolute count\n",
    "\n",
    "ax1.bar([0,0.1,0.2,0.3,0.4], data1,  width = 0.1, alpha=0.75, color='b')\n",
    "ax1.bar([0,0.1,0.2,0.3,0.4], data2, bottom=data1, width = 0.1, alpha=0.75, color='orange')\n",
    "plt.sca(ax1)\n",
    "ax1.bar([1.0,1.1,1.2,1.3,1.4], data3,  width = 0.1, alpha=0.75, color='b')\n",
    "ax1.bar([1.0,1.1,1.2,1.3,1.4], data4, bottom=data3,width = 0.1, alpha=0.75, color='orange')\n",
    "plt.sca(ax1)\n",
    "ax1.bar([2.0,2.1,2.2,2.3,2.4], data5,  width = 0.1, alpha=0.75, color='b')\n",
    "ax1.bar([2.0,2.1,2.2,2.3,2.4], data6, bottom=data5, width = 0.1, alpha=0.75, color='orange')\n",
    "plt.sca(ax1)\n",
    "ax1.bar([3.0,3.1,3.2,3.3,3.4], data7,  width = 0.1, alpha=0.75, color='b')\n",
    "ax1.bar([3.0,3.1,3.2,3.3,3.4], data8, bottom=data7,width = 0.1, alpha=0.75, color='orange')\n",
    "plt.sca(ax1)\n",
    "ax1.bar([4.0,4.1,4.2,4.3,4.4], data9, width = 0.1, alpha=0.75, color='b')\n",
    "ax1.bar([4.0,4.1,4.2,4.3,4.4], data10, bottom=data9,width = 0.1, alpha=0.75, color='orange')\n",
    "plt.sca(ax1)\n",
    "plt.xticks([0.25, 1.25, 2.25, 3.25, 4.25],  ['toilets','garbage','sanitary','smell','maintainance'])\n",
    "ax1.set_ylabel(\"Count\")\n",
    "ax1.set_xlabel(\"\")\n",
    "ax1.legend( ('positive','negative'),loc = 2)\n",
    "\n",
    "\n"
   ]
  },
  {
   "cell_type": "code",
   "execution_count": 120,
   "metadata": {
    "collapsed": false
   },
   "outputs": [
    {
     "data": {
      "image/png": "[encoded data removed]",
      "text/plain": [
       "<matplotlib.figure.Figure at 0x1b7fdded588>"
      ]
     },
     "metadata": {},
     "output_type": "display_data"
    }
   ],
   "source": [
    "plt.show()"
   ]
  },
  {
   "cell_type": "code",
   "execution_count": 86,
   "metadata": {
    "collapsed": true
   },
   "outputs": [],
   "source": [
    "ax1.legend?\n"
   ]
  },
  {
   "cell_type": "code",
   "execution_count": 121,
   "metadata": {
    "collapsed": false
   },
   "outputs": [
    {
     "data": {
      "text/plain": [
       "<matplotlib.legend.Legend at 0x1b7fe06a668>"
      ]
     },
     "execution_count": 121,
     "metadata": {},
     "output_type": "execute_result"
    }
   ],
   "source": [
    "from matplotlib import pyplot as plt\n",
    "\n",
    "data1 = [129,66,49,62,40]\n",
    "data2 = [51,77,84,75,62]\n",
    "data3 = [296,81,105,136,72]\n",
    "data4 = [195,98,168,212,93]\n",
    "data5 = [122,313,103,92,127]\n",
    "data6 = [111,277,202,154,176]\n",
    "\n",
    "\n",
    "f, (ax1) = plt.subplots(1, figsize=(5,5))\n",
    "\n",
    "## Absolute count\n",
    "\n",
    "ax1.bar([0,0.1,0.2,0.3,0.4], data1,  width = 0.1, alpha=0.75, color='b')\n",
    "ax1.bar([0,0.1,0.2,0.3,0.4], data2, bottom=data1, width = 0.1, alpha=0.75, color='orange')\n",
    "plt.sca(ax1)\n",
    "ax1.bar([1.0,1.1,1.2,1.3,1.4], data3,  width = 0.1, alpha=0.75, color='b')\n",
    "ax1.bar([1.0,1.1,1.2,1.3,1.4], data4, bottom=data3,width = 0.1, alpha=0.75, color='orange')\n",
    "plt.sca(ax1)\n",
    "ax1.bar([2.0,2.1,2.2,2.3,2.4], data5,  width = 0.1, alpha=0.75, color='b')\n",
    "ax1.bar([2.0,2.1,2.2,2.3,2.4], data6, bottom=data5, width = 0.1, alpha=0.75, color='orange')\n",
    "\n",
    "plt.xticks([0.25, 1.25, 2.25],  ['journey','road','train'])\n",
    "ax1.set_ylabel(\"Count\")\n",
    "ax1.set_xlabel(\"\")\n",
    "ax1.legend( ('positive','negative'),loc = 2)"
   ]
  },
  {
   "cell_type": "code",
   "execution_count": 122,
   "metadata": {
    "collapsed": false
   },
   "outputs": [
    {
     "data": {
      "image/png": "[encoded data removed]",
      "text/plain": [
       "<matplotlib.figure.Figure at 0x1b7fdedd7f0>"
      ]
     },
     "metadata": {},
     "output_type": "display_data"
    }
   ],
   "source": [
    "plt.show()"
   ]
  },
  {
   "cell_type": "code",
   "execution_count": 125,
   "metadata": {
    "collapsed": false
   },
   "outputs": [
    {
     "data": {
      "text/plain": [
       "<matplotlib.legend.Legend at 0x1b7fe266208>"
      ]
     },
     "execution_count": 125,
     "metadata": {},
     "output_type": "execute_result"
    }
   ],
   "source": [
    "from matplotlib import pyplot as plt\n",
    "\n",
    "data1 = [6,16,10,9,7]\n",
    "data2 = [7,14,5,2,2]\n",
    "data3 = [1,6,7,8,3]\n",
    "data4 = [0,1,0,1,1]\n",
    "data5 = [102,129,165,148,192]\n",
    "data6 = [74,83,55,95,69]\n",
    "data7 = [8,20,22,9,13]\n",
    "data8 = [3,19,15,23,14]\n",
    "data9 = [19,17,19,24,32]\n",
    "data10 = [13,15,15,16,12]\n",
    "data11 = [174,148,228,211,106]\n",
    "data12 = [128,163,56,174,49]\n",
    "\n",
    "f, (ax1) = plt.subplots(1, figsize=(6,6))\n",
    "\n",
    "## Absolute count\n",
    "\n",
    "ax1.bar([0,0.1,0.2,0.3,0.4], data1,  width = 0.1, alpha=0.75, color='b')\n",
    "ax1.bar([0,0.1,0.2,0.3,0.4], data2, bottom=data1, width = 0.1, alpha=0.75, color='orange')\n",
    "plt.sca(ax1)\n",
    "ax1.bar([1.0,1.1,1.2,1.3,1.4], data3,  width = 0.1, alpha=0.75, color='b')\n",
    "ax1.bar([1.0,1.1,1.2,1.3,1.4], data4, bottom=data3,width = 0.1, alpha=0.75, color='orange')\n",
    "plt.sca(ax1)\n",
    "ax1.bar([2.0,2.1,2.2,2.3,2.4], data5,  width = 0.1, alpha=0.75, color='b')\n",
    "ax1.bar([2.0,2.1,2.2,2.3,2.4], data6, bottom=data5, width = 0.1, alpha=0.75, color='orange')\n",
    "plt.sca(ax1)\n",
    "ax1.bar([3.0,3.1,3.2,3.3,3.4], data7,  width = 0.1, alpha=0.75, color='b')\n",
    "ax1.bar([3.0,3.1,3.2,3.3,3.4], data8, bottom=data7,width = 0.1, alpha=0.75, color='orange')\n",
    "plt.sca(ax1)\n",
    "ax1.bar([4.0,4.1,4.2,4.3,4.4], data9, width = 0.1, alpha=0.75, color='b')\n",
    "ax1.bar([4.0,4.1,4.2,4.3,4.4], data10, bottom=data9,width = 0.1, alpha=0.75, color='orange')\n",
    "plt.sca(ax1)\n",
    "ax1.bar([5.0,5.1,5.2,5.3,5.4], data11, width = 0.1, alpha=0.75, color='b')\n",
    "ax1.bar([5.0,5.1,5.2,5.3,5.4], data12, bottom=data11,width = 0.1, alpha=0.75, color='orange')\n",
    "plt.sca(ax1)\n",
    "plt.xticks([0.25,1.25,2.25,3.25,4.25,5.25],  ['ATM','power','shops/expenses','queues','internet/wifi','hotels'])\n",
    "ax1.set_ylabel(\"Count\")\n",
    "ax1.set_xlabel(\"\")\n",
    "ax1.legend( ('positive','negative'),loc = 2)"
   ]
  },
  {
   "cell_type": "code",
   "execution_count": 126,
   "metadata": {
    "collapsed": false
   },
   "outputs": [
    {
     "data": {
      "image/png": "[encoded data removed]",
      "text/plain": [
       "<matplotlib.figure.Figure at 0x1b7fe23fba8>"
      ]
     },
     "metadata": {},
     "output_type": "display_data"
    }
   ],
   "source": [
    "plt.show()"
   ]
  },
  {
   "cell_type": "code",
   "execution_count": 127,
   "metadata": {
    "collapsed": false
   },
   "outputs": [
    {
     "data": {
      "text/plain": [
       "<matplotlib.legend.Legend at 0x1b7fe4eec18>"
      ]
     },
     "execution_count": 127,
     "metadata": {},
     "output_type": "execute_result"
    }
   ],
   "source": [
    "from matplotlib import pyplot as plt\n",
    "\n",
    "data1 = [78,93,106,42,59]\n",
    "data2 = [93,107,177,158,187]\n",
    "f, (ax1) = plt.subplots(1, figsize=(2,5))\n",
    "\n",
    "## Absolute count\n",
    "\n",
    "ax1.bar([0,0.1,0.2,0.3,0.4], data1,  width = 0.1, alpha=0.75, color='b')\n",
    "ax1.bar([0,0.1,0.2,0.3,0.4], data2, bottom=data1, width = 0.1, alpha=0.75, color='orange')\n",
    "plt.sca(ax1)\n",
    "plt.xticks([0.25],  ['chaos'])\n",
    "ax1.set_ylabel(\"Count\")\n",
    "ax1.set_xlabel(\"\")\n",
    "ax1.legend( ('positive','negative'),loc = 2)"
   ]
  },
  {
   "cell_type": "code",
   "execution_count": 128,
   "metadata": {
    "collapsed": false
   },
   "outputs": [
    {
     "data": {
      "image/png": "[encoded data removed]",
      "text/plain": [
       "<matplotlib.figure.Figure at 0x1b7fe2ff780>"
      ]
     },
     "metadata": {},
     "output_type": "display_data"
    }
   ],
   "source": [
    "plt.show()"
   ]
  },
  {
   "cell_type": "code",
   "execution_count": null,
   "metadata": {
    "collapsed": true
   },
   "outputs": [],
   "source": []
  }
 ],
 "metadata": {
  "anaconda-cloud": {},
  "kernelspec": {
   "display_name": "Python [conda root]",
   "language": "python",
   "name": "conda-root-py"
  },
  "language_info": {
   "codemirror_mode": {
    "name": "ipython",
    "version": 3
   },
   "file_extension": ".py",
   "mimetype": "text/x-python",
   "name": "python",
   "nbconvert_exporter": "python",
   "pygments_lexer": "ipython3",
   "version": "3.5.2"
  }
 },
 "nbformat": 4,
 "nbformat_minor": 1
}
